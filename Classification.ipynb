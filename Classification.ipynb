{
 "cells": [
  {
   "cell_type": "code",
   "execution_count": 1,
   "metadata": {},
   "outputs": [],
   "source": [
    "import matplotlib\n",
    "import matplotlib.pyplot as plt\n",
    "import numpy as np"
   ]
  },
  {
   "cell_type": "code",
   "execution_count": 2,
   "metadata": {},
   "outputs": [
    {
     "name": "stdout",
     "output_type": "stream",
     "text": [
      "(70000, 784)\n"
     ]
    },
    {
     "name": "stderr",
     "output_type": "stream",
     "text": [
      "c:\\users\\user\\appdata\\local\\programs\\python\\python36\\lib\\site-packages\\sklearn\\utils\\deprecation.py:77: DeprecationWarning: Function fetch_mldata is deprecated; fetch_mldata was deprecated in version 0.20 and will be removed in version 0.22\n",
      "  warnings.warn(msg, category=DeprecationWarning)\n",
      "c:\\users\\user\\appdata\\local\\programs\\python\\python36\\lib\\site-packages\\sklearn\\utils\\deprecation.py:77: DeprecationWarning: Function mldata_filename is deprecated; mldata_filename was deprecated in version 0.20 and will be removed in version 0.22\n",
      "  warnings.warn(msg, category=DeprecationWarning)\n"
     ]
    },
    {
     "data": {
      "text/plain": [
       "(array([[0, 0, 0, ..., 0, 0, 0],\n",
       "        [0, 0, 0, ..., 0, 0, 0],\n",
       "        [0, 0, 0, ..., 0, 0, 0],\n",
       "        ...,\n",
       "        [0, 0, 0, ..., 0, 0, 0],\n",
       "        [0, 0, 0, ..., 0, 0, 0],\n",
       "        [0, 0, 0, ..., 0, 0, 0]], dtype=uint8),\n",
       " array([0., 0., 0., ..., 9., 9., 9.]))"
      ]
     },
     "execution_count": 2,
     "metadata": {},
     "output_type": "execute_result"
    }
   ],
   "source": [
    "from sklearn.datasets import fetch_mldata\n",
    "mnist = fetch_mldata('MNIST original')\n",
    "\n",
    "data, target = mnist[\"data\"], mnist[\"target\"]\n",
    "\n",
    "print(data.shape)\n",
    "\n",
    "data, target"
   ]
  },
  {
   "cell_type": "code",
   "execution_count": 3,
   "metadata": {},
   "outputs": [
    {
     "data": {
      "image/png": "[encoded data removed]",
      "text/plain": [
       "<Figure size 432x288 with 10 Axes>"
      ]
     },
     "metadata": {},
     "output_type": "display_data"
    }
   ],
   "source": [
    "for i in range(10):\n",
    "  plt.subplot(2,5,i+1)\n",
    "  plt.imshow(data[i*7000].reshape(28,-1),cmap = matplotlib.cm.binary,\n",
    "           interpolation=\"nearest\")\n",
    "  plt.xlabel(target[i*7000])\n",
    "  plt.grid(False)\n",
    "  plt.xticks([])\n",
    "  plt.yticks([])\n"
   ]
  },
  {
   "cell_type": "markdown",
   "metadata": {},
   "source": [
    "### 創建Testing set"
   ]
  },
  {
   "cell_type": "code",
   "execution_count": 4,
   "metadata": {},
   "outputs": [],
   "source": [
    "X_train, X_test, y_train, y_test = data[:60000], data[60000:], target[:60000], target[60000:]"
   ]
  },
  {
   "cell_type": "markdown",
   "metadata": {},
   "source": [
    "### 打散數據"
   ]
  },
  {
   "cell_type": "code",
   "execution_count": 5,
   "metadata": {},
   "outputs": [],
   "source": [
    "suffle_index = np.random.permutation(60000)\n",
    "X_train, y_train = X_train[suffle_index], y_train[suffle_index]"
   ]
  },
  {
   "cell_type": "markdown",
   "metadata": {},
   "source": [
    "### 分類器"
   ]
  },
  {
   "cell_type": "code",
   "execution_count": 6,
   "metadata": {},
   "outputs": [
    {
     "data": {
      "text/plain": [
       "array([ True, False,  True, ..., False, False, False])"
      ]
     },
     "execution_count": 6,
     "metadata": {},
     "output_type": "execute_result"
    }
   ],
   "source": [
    "y_train_5 = (y_train == 5)\n",
    "y_test_5 = (y_test==5)\n",
    "\n",
    "y_train_5"
   ]
  },
  {
   "cell_type": "code",
   "execution_count": 7,
   "metadata": {},
   "outputs": [
    {
     "data": {
      "text/plain": [
       "array([False])"
      ]
     },
     "execution_count": 7,
     "metadata": {},
     "output_type": "execute_result"
    }
   ],
   "source": [
    "from sklearn.linear_model import SGDClassifier\n",
    "\n",
    "sgd_clf = SGDClassifier(random_state=42, max_iter=5, tol=None)\n",
    "sgd_clf.fit(X_train, y_train_5)\n",
    "\n",
    "sgd_clf.predict([X_train[100]])"
   ]
  },
  {
   "cell_type": "markdown",
   "metadata": {},
   "source": [
    "### 交叉驗證"
   ]
  },
  {
   "cell_type": "code",
   "execution_count": 8,
   "metadata": {},
   "outputs": [
    {
     "data": {
      "text/plain": [
       "array([0.95795, 0.964  , 0.9673 ])"
      ]
     },
     "execution_count": 8,
     "metadata": {},
     "output_type": "execute_result"
    }
   ],
   "source": [
    "from sklearn.model_selection import cross_val_score\n",
    "cross_val_score(sgd_clf, X_train, y_train_5, cv=3, scoring=\"accuracy\") # 3 個 fold"
   ]
  },
  {
   "cell_type": "markdown",
   "metadata": {},
   "source": [
    "### 混淆矩陣\n",
    "\n",
    "`cross_val_predict` 同樣進行交叉驗證，但返回的不是評估分數，每個實例的預測 (prediction)"
   ]
  },
  {
   "cell_type": "code",
   "execution_count": 9,
   "metadata": {},
   "outputs": [
    {
     "name": "stdout",
     "output_type": "stream",
     "text": [
      "[ True False  True ... False False False]\n"
     ]
    },
    {
     "data": {
      "text/plain": [
       "array([[53485,  1094],\n",
       "       [ 1121,  4300]], dtype=int64)"
      ]
     },
     "execution_count": 9,
     "metadata": {},
     "output_type": "execute_result"
    }
   ],
   "source": [
    "from sklearn.model_selection import cross_val_predict\n",
    "y_train_pred = cross_val_predict(sgd_clf, X_train, y_train_5, cv=3)\n",
    "print(y_train_pred)   \n",
    "# 使用confusion_matrix 獲取混淆矩陣 (行 為 實際值， 列 為 預測值)\n",
    "from sklearn.metrics import confusion_matrix\n",
    "\n",
    "#            非5(pred)  是5(pred)\n",
    "#  非5(real)   xxx      0(理想)     | 精\n",
    "#  是5(real)   0(理想)  xxx         | 度\n",
    "#              ---------------\n",
    "#                召回率\n",
    "\n",
    "# 召回率高,精度低 : 只要是五一定辨認得出來，但預測中帶有很多假正類(其他數字) \n",
    "# 召回率低,精度高 : 容易將五判斷為非五(其他數字)，但預測中帶有假正類的比率低(幾乎為五)\n",
    "\n",
    "## ! 不能同時增加精度並減少召回率，反之亦然 (相同模型下)\n",
    "cmt = confusion_matrix(y_train_5, y_train_pred)\n",
    "cmt"
   ]
  },
  {
   "cell_type": "code",
   "execution_count": 10,
   "metadata": {},
   "outputs": [
    {
     "name": "stdout",
     "output_type": "stream",
     "text": [
      "0.7971820541342232\n",
      "0.7932115845784911\n"
     ]
    }
   ],
   "source": [
    "# 精度 : 在預測之中，真正類占多少\n",
    "print(cmt[1][1]/(cmt[1][1]+cmt[0][1]))\n",
    "# 召回率 : 在所有該類中，找到幾個判斷為正類\n",
    "print(cmt[1][1]/(cmt[1][1]+cmt[1][0]))"
   ]
  },
  {
   "cell_type": "markdown",
   "metadata": {},
   "source": [
    "#### scikit 也有提供精度和召回率的函數"
   ]
  },
  {
   "cell_type": "code",
   "execution_count": 11,
   "metadata": {},
   "outputs": [
    {
     "name": "stdout",
     "output_type": "stream",
     "text": [
      "0.7971820541342232\n",
      "0.7932115845784911\n"
     ]
    }
   ],
   "source": [
    "from sklearn.metrics import precision_score, recall_score\n",
    "print(precision_score(y_train_5, y_train_pred))\n",
    "print(recall_score(y_train_5, y_train_pred))"
   ]
  },
  {
   "cell_type": "markdown",
   "metadata": {},
   "source": [
    "#### 精度和召回率可以組合成指標： F1 分數，可用來比較兩種分類器\n",
    "只有當精度和召回率都很高，才會得到較高的F1分數"
   ]
  },
  {
   "cell_type": "code",
   "execution_count": 12,
   "metadata": {},
   "outputs": [
    {
     "data": {
      "text/plain": [
       "0.7951918631530283"
      ]
     },
     "execution_count": 12,
     "metadata": {},
     "output_type": "execute_result"
    }
   ],
   "source": [
    "from sklearn.metrics import f1_score\n",
    "f1_score(y_train_5, y_train_pred)"
   ]
  },
  {
   "cell_type": "markdown",
   "metadata": {},
   "source": [
    "#### 閾值\n",
    "調用分類器的`decision_function`，可以返回實例的預測分數\n",
    "\n",
    "分類器判斷實例的分數，依據閾值(大於小於) 來分類 (**SGDClassifier使用的閾值為 0**)"
   ]
  },
  {
   "cell_type": "code",
   "execution_count": 13,
   "metadata": {},
   "outputs": [
    {
     "data": {
      "text/plain": [
       "array([-45133.43837359])"
      ]
     },
     "execution_count": 13,
     "metadata": {},
     "output_type": "execute_result"
    }
   ],
   "source": [
    "y_score = sgd_clf.decision_function([X_train[150]])\n",
    "y_score"
   ]
  },
  {
   "cell_type": "markdown",
   "metadata": {},
   "source": [
    "#### 使用 cross_val_predict 交叉驗證，並返回每個實例的決策分數而非預測結果"
   ]
  },
  {
   "cell_type": "code",
   "execution_count": 14,
   "metadata": {},
   "outputs": [
    {
     "data": {
      "text/plain": [
       "array([  82514.8409573 , -471889.11130115,  187463.97005745, ...,\n",
       "       -200118.29320536, -744528.31514576, -465426.6280727 ])"
      ]
     },
     "execution_count": 14,
     "metadata": {},
     "output_type": "execute_result"
    }
   ],
   "source": [
    "y_scores = cross_val_predict(sgd_clf, X_train, y_train_5, cv=3, method=\"decision_function\")\n",
    "y_scores"
   ]
  },
  {
   "cell_type": "code",
   "execution_count": 15,
   "metadata": {},
   "outputs": [
    {
     "data": {
      "image/png": "[encoded data removed]",
      "text/plain": [
       "<Figure size 1080x360 with 1 Axes>"
      ]
     },
     "metadata": {
      "needs_background": "light"
     },
     "output_type": "display_data"
    }
   ],
   "source": [
    "from sklearn.metrics import precision_recall_curve\n",
    "precision, recalls, thresholds = precision_recall_curve(y_train_5, y_scores) # 利用不同 thresholds 預測\n",
    "plt.figure(figsize=(15,5))\n",
    "plt.plot(thresholds, precision[:-1],\"b--\", label=\"Precision\")\n",
    "plt.plot(thresholds, recalls[:-1],\"g-\", label=\"Recall\")\n",
    "plt.xlabel(\"Threshold\")\n",
    "plt.legend(loc=\"center left\")\n",
    "plt.show()"
   ]
  },
  {
   "cell_type": "markdown",
   "metadata": {},
   "source": [
    "### PR曲線(精度/召回率)\n",
    "\n",
    "希望曲線更接近右上角"
   ]
  },
  {
   "cell_type": "code",
   "execution_count": 16,
   "metadata": {},
   "outputs": [
    {
     "data": {
      "image/png": "[encoded data removed]",
      "text/plain": [
       "<Figure size 432x288 with 1 Axes>"
      ]
     },
     "metadata": {
      "needs_background": "light"
     },
     "output_type": "display_data"
    }
   ],
   "source": [
    "plt.plot(recalls[:-1],precision[:-1])\n",
    "plt.title(\"Precision/Recalls\")\n",
    "plt.xlabel(\"Recalls\")\n",
    "plt.ylabel(\"Precision\")\n",
    "plt.show()"
   ]
  },
  {
   "cell_type": "markdown",
   "metadata": {},
   "source": [
    "#### 假設瞄準約90%的精度 (約在 threshold = 70000 的位置)"
   ]
  },
  {
   "cell_type": "code",
   "execution_count": 17,
   "metadata": {},
   "outputs": [
    {
     "name": "stdout",
     "output_type": "stream",
     "text": [
      "精度:0.8815853069115515\n",
      "召回率:0.6729385722191478\n"
     ]
    }
   ],
   "source": [
    "y_train_pred_90 = (y_scores > 70000)\n",
    "p_score = precision_score(y_train_5, y_train_pred_90)\n",
    "r_score = recall_score(y_train_5, y_train_pred_90)\n",
    "print(\"精度:{}\\n召回率:{}\".format(p_score,r_score))"
   ]
  },
  {
   "cell_type": "markdown",
   "metadata": {},
   "source": [
    "### receiver operating characteristic curve\n",
    "\n",
    "和 精度/召回率 曲線非常相似，但我們這次繪製的是 召回率(真正類率)/假正類率(FPR)\n",
    "\n",
    "展示召回率高，同時也造成假正類率上升"
   ]
  },
  {
   "cell_type": "code",
   "execution_count": 18,
   "metadata": {},
   "outputs": [],
   "source": [
    "from sklearn.metrics import roc_curve\n",
    "fpr, tpr, thresholds = roc_curve(y_train_5, y_scores)"
   ]
  },
  {
   "cell_type": "code",
   "execution_count": 19,
   "metadata": {},
   "outputs": [
    {
     "data": {
      "image/png": "[encoded data removed]",
      "text/plain": [
       "<Figure size 432x288 with 1 Axes>"
      ]
     },
     "metadata": {
      "needs_background": "light"
     },
     "output_type": "display_data"
    }
   ],
   "source": [
    "plt.plot(fpr, tpr,linewidth=2)\n",
    "plt.plot([0,1],[0,1],\"k--\")\n",
    "plt.xlabel(\"False Positive Rate\")\n",
    "plt.ylabel(\"True Positive Rate\")\n",
    "plt.show()"
   ]
  },
  {
   "cell_type": "markdown",
   "metadata": {},
   "source": [
    "### AUC\n",
    "\n",
    "一種衡量分類器的方法，(曲線下面積)\n",
    "\n",
    "完美的分類器的 ROC AUC 等於一 ( 一條tpr = 1 的直線 ?)"
   ]
  },
  {
   "cell_type": "code",
   "execution_count": 20,
   "metadata": {},
   "outputs": [
    {
     "data": {
      "text/plain": [
       "0.9655515498133439"
      ]
     },
     "execution_count": 20,
     "metadata": {},
     "output_type": "execute_result"
    }
   ],
   "source": [
    "# Scikit learn 提供計算 ROC AUC 的方法\n",
    "from sklearn.metrics import roc_auc_score\n",
    "roc_auc_score(y_train_5, y_scores)"
   ]
  },
  {
   "cell_type": "markdown",
   "metadata": {},
   "source": [
    "#### 使用ROC還是PR曲線?  P.91\n",
    "\n",
    "ROC : 較關心召回率 (假負類) 可以判斷錯\n",
    "\n",
    "PR : 較關心精度 (假正類) 可以沒判斷到，但不能錯"
   ]
  },
  {
   "cell_type": "markdown",
   "metadata": {},
   "source": [
    "### 使用另一種分類器\n",
    "\n",
    "RandomForestClassifier"
   ]
  },
  {
   "cell_type": "code",
   "execution_count": 21,
   "metadata": {},
   "outputs": [
    {
     "data": {
      "text/plain": [
       "array([[0.5, 0.5],\n",
       "       [0.8, 0.2],\n",
       "       [0.5, 0.5],\n",
       "       ...,\n",
       "       [1. , 0. ],\n",
       "       [1. , 0. ],\n",
       "       [1. , 0. ]])"
      ]
     },
     "execution_count": 21,
     "metadata": {},
     "output_type": "execute_result"
    }
   ],
   "source": [
    "from sklearn.ensemble import RandomForestClassifier\n",
    "\n",
    "forest_clf = RandomForestClassifier(n_estimators=10,random_state=42)\n",
    "y_probas_forest = cross_val_predict(forest_clf,X_train,y_train_5,cv=3,\n",
    "                                    method=\"predict_proba\") # 算分數方式和SGD不同\n",
    "#運作方式和SGDClassifier不同 , 返回該實例所有類別的可能性(此例中為正類、負類)\n",
    "y_probas_forest"
   ]
  },
  {
   "cell_type": "code",
   "execution_count": 22,
   "metadata": {},
   "outputs": [],
   "source": [
    "# 直接使用正類概率作為分數\n",
    "y_score_forest = y_probas_forest[:,1]"
   ]
  },
  {
   "cell_type": "code",
   "execution_count": 23,
   "metadata": {},
   "outputs": [
    {
     "data": {
      "image/png": "[encoded data removed]",
      "text/plain": [
       "<Figure size 432x288 with 1 Axes>"
      ]
     },
     "metadata": {
      "needs_background": "light"
     },
     "output_type": "display_data"
    }
   ],
   "source": [
    "fpr_forest, tpr_forest, thresholds_forest = roc_curve(y_train_5,y_score_forest)\n",
    "plt.plot(fpr, tpr, \"b:\", label=\"SGD\")\n",
    "plt.plot(fpr_forest, tpr_forest, label=\"Random Forest\")\n",
    "plt.legend(loc=\"lower right\")\n",
    "plt.show()"
   ]
  },
  {
   "cell_type": "code",
   "execution_count": 24,
   "metadata": {},
   "outputs": [
    {
     "name": "stdout",
     "output_type": "stream",
     "text": [
      "精度:0.9859894921190894\n",
      "召回率:0.8308430178933776\n"
     ]
    }
   ],
   "source": [
    "y_forest_predict = cross_val_predict(forest_clf,X_train,y_train_5,cv=3)\n",
    "pre_forest, re_forest = precision_score(y_train_5,y_forest_predict), recall_score(y_train_5,y_forest_predict)\n",
    "print(\"精度:{}\\n召回率:{}\".format(pre_forest,re_forest))"
   ]
  },
  {
   "cell_type": "markdown",
   "metadata": {},
   "source": [
    "#### 接著使用 y_train 而非 y_train_5 進行多類別訓練，Scikit learn會自動套用OvA (除了SVM會使用OvO) 來訓練\n",
    "\n",
    "此例中 實際訓練了十個二元分類器(0~9)"
   ]
  },
  {
   "cell_type": "code",
   "execution_count": 25,
   "metadata": {},
   "outputs": [
    {
     "name": "stdout",
     "output_type": "stream",
     "text": [
      "[ True False  True ... False False False]\n",
      "[5. 4. 5. ... 3. 8. 1.]\n"
     ]
    }
   ],
   "source": [
    "print(y_train_5)\n",
    "print(y_train)"
   ]
  },
  {
   "cell_type": "code",
   "execution_count": 26,
   "metadata": {},
   "outputs": [
    {
     "data": {
      "text/plain": [
       "array([4.])"
      ]
     },
     "execution_count": 26,
     "metadata": {},
     "output_type": "execute_result"
    }
   ],
   "source": [
    "sgd_clf.fit(X_train, y_train)\n",
    "sgd_clf.predict([X_train[100]]) # 判斷從 True, False (正負類) 變成數字 (判斷為哪個數字/類別)"
   ]
  },
  {
   "cell_type": "code",
   "execution_count": 27,
   "metadata": {},
   "outputs": [
    {
     "data": {
      "text/plain": [
       "array([[-612915.90227024, -628384.17044624, -297166.75727085,\n",
       "        -154661.58484408,  290687.68930998, -299137.23905066,\n",
       "        -333434.28386654, -257596.06683518, -122472.63993126,\n",
       "        -441220.73625797]])"
      ]
     },
     "execution_count": 27,
     "metadata": {},
     "output_type": "execute_result"
    }
   ],
   "source": [
    "# 返回十個分數\n",
    "some_digit_score = sgd_clf.decision_function([X_train[100]])\n",
    "some_digit_score"
   ]
  },
  {
   "cell_type": "markdown",
   "metadata": {},
   "source": [
    "#### 可使用 OneVsRestClassifier/OneVsOneClassifier 來限制使用 OvA/ OvO"
   ]
  },
  {
   "cell_type": "code",
   "execution_count": 28,
   "metadata": {},
   "outputs": [
    {
     "data": {
      "text/plain": [
       "array([4.])"
      ]
     },
     "execution_count": 28,
     "metadata": {},
     "output_type": "execute_result"
    }
   ],
   "source": [
    "from sklearn.multiclass import OneVsOneClassifier\n",
    "ovo_clf = OneVsOneClassifier(SGDClassifier(random_state=42,max_iter=1000))\n",
    "ovo_clf.fit(X_train, y_train)\n",
    "ovo_clf.predict([X_train[100]])"
   ]
  },
  {
   "cell_type": "markdown",
   "metadata": {},
   "source": [
    "#### 隨機森林分類器 多類別\n",
    "\n",
    "隨機森林分類器直接就可以將實例分為多個類別，無須再運行OvO,OvA"
   ]
  },
  {
   "cell_type": "code",
   "execution_count": 29,
   "metadata": {},
   "outputs": [
    {
     "data": {
      "text/plain": [
       "array([4.])"
      ]
     },
     "execution_count": 29,
     "metadata": {},
     "output_type": "execute_result"
    }
   ],
   "source": [
    "forest_clf.fit(X_train, y_train)\n",
    "forest_clf.predict([X_train[100]])"
   ]
  },
  {
   "cell_type": "markdown",
   "metadata": {},
   "source": [
    "#### 交叉驗證 SGD"
   ]
  },
  {
   "cell_type": "code",
   "execution_count": 30,
   "metadata": {},
   "outputs": [
    {
     "data": {
      "text/plain": [
       "array([0.86902619, 0.87489374, 0.86387958])"
      ]
     },
     "execution_count": 30,
     "metadata": {},
     "output_type": "execute_result"
    }
   ],
   "source": [
    "cross_val_score(sgd_clf, X_train, y_train, cv=3, scoring=\"accuracy\")"
   ]
  },
  {
   "cell_type": "markdown",
   "metadata": {},
   "source": [
    "#### 標準化\n",
    "可增加準確率"
   ]
  },
  {
   "cell_type": "code",
   "execution_count": 31,
   "metadata": {},
   "outputs": [
    {
     "data": {
      "text/plain": [
       "array([0.90861828, 0.90834542, 0.91083663])"
      ]
     },
     "execution_count": 31,
     "metadata": {},
     "output_type": "execute_result"
    }
   ],
   "source": [
    "from sklearn.preprocessing import StandardScaler\n",
    "scaler = StandardScaler()\n",
    "X_train_scale = scaler.fit_transform(X_train.astype(np.float64))\n",
    "cross_val_score(sgd_clf, X_train_scale, y_train, cv=3, scoring=\"accuracy\")"
   ]
  },
  {
   "cell_type": "code",
   "execution_count": 32,
   "metadata": {},
   "outputs": [
    {
     "data": {
      "text/plain": [
       "array([5., 4., 5., ..., 3., 8., 1.])"
      ]
     },
     "execution_count": 32,
     "metadata": {},
     "output_type": "execute_result"
    }
   ],
   "source": [
    "y_train_pred = cross_val_predict(sgd_clf, X_train_scale, y_train, cv=3)\n",
    "y_train_pred"
   ]
  },
  {
   "cell_type": "code",
   "execution_count": 33,
   "metadata": {},
   "outputs": [
    {
     "data": {
      "text/plain": [
       "array([[5742,    3,   22,   12,   11,   40,   43,    9,   35,    6],\n",
       "       [   1, 6483,   44,   28,    5,   40,    7,   12,  112,   10],\n",
       "       [  53,   42, 5320,  103,   81,   27,   88,   60,  169,   15],\n",
       "       [  53,   42,  140, 5327,    3,  242,   34,   54,  140,   96],\n",
       "       [  22,   27,   37,    9, 5358,   10,   44,   27,   88,  220],\n",
       "       [  79,   37,   38,  177,   76, 4586,  113,   28,  188,   99],\n",
       "       [  40,   23,   51,    2,   45,   88, 5613,    8,   46,    2],\n",
       "       [  28,   19,   66,   28,   52,    7,    3, 5803,   13,  246],\n",
       "       [  53,  160,   74,  150,   14,  150,   56,   34, 5012,  148],\n",
       "       [  41,   33,   26,   88,  151,   31,    3,  186,   78, 5312]],\n",
       "      dtype=int64)"
      ]
     },
     "execution_count": 33,
     "metadata": {},
     "output_type": "execute_result"
    }
   ],
   "source": [
    "conf_mx = confusion_matrix(y_train, y_train_pred)\n",
    "conf_mx"
   ]
  },
  {
   "cell_type": "code",
   "execution_count": 34,
   "metadata": {},
   "outputs": [
    {
     "data": {
      "image/png": "[encoded data removed]",
      "text/plain": [
       "<Figure size 288x288 with 1 Axes>"
      ]
     },
     "metadata": {
      "needs_background": "light"
     },
     "output_type": "display_data"
    }
   ],
   "source": [
    "plt.matshow(conf_mx, cmap=plt.cm.gray)\n",
    "plt.show()\n",
    "# 正確預測的數量"
   ]
  },
  {
   "cell_type": "code",
   "execution_count": 35,
   "metadata": {},
   "outputs": [
    {
     "data": {
      "image/png": "[encoded data removed]",
      "text/plain": [
       "<Figure size 288x288 with 1 Axes>"
      ]
     },
     "metadata": {
      "needs_background": "light"
     },
     "output_type": "display_data"
    }
   ],
   "source": [
    "row_sums = conf_mx.sum(axis=1, keepdims=True) # 每類數量\n",
    "norm_conf_mx = conf_mx/row_sums\n",
    "# 用0填充對角線 \n",
    "np.fill_diagonal(norm_conf_mx,0)\n",
    "plt.matshow(norm_conf_mx, cmap=plt.cm.gray)\n",
    "plt.show()\n",
    "# 預測錯誤的數量"
   ]
  },
  {
   "cell_type": "code",
   "execution_count": 36,
   "metadata": {},
   "outputs": [],
   "source": [
    "def plot_digits(x,images_per_row, name=\"\"):\n",
    "    image = x.reshape(-1,28,28)\n",
    "    image = np.array(image)\n",
    "    row_images = []\n",
    "    for row in range(images_per_row):\n",
    "        r_image = image[row*images_per_row:(row+1)*images_per_row]\n",
    "        row_images.append(np.concatenate(r_image, axis=1)) \n",
    "    image = np.concatenate(row_images, axis=0)\n",
    "    plt.axis(\"off\")\n",
    "    plt.title(name)\n",
    "    plt.imshow(image, cmap=plt.cm.binary)\n",
    "    #plt.axis(\"off\")\n",
    "# def plot_digits(instances, images_per_row=10, **options):\n",
    "#     size = 28\n",
    "#     images_per_row = min(len(instances), images_per_row)\n",
    "#     images = [instance.reshape(size,size) for instance in instances]\n",
    "#     n_rows = (len(instances) - 1) // images_per_row + 1\n",
    "#     row_images = []\n",
    "#     n_empty = n_rows * images_per_row - len(instances)\n",
    "#     images.append(np.zeros((size, size * n_empty)))\n",
    "#     for row in range(n_rows):\n",
    "#         rimages = images[row * images_per_row : (row + 1) * images_per_row]\n",
    "#         row_images.append(np.concatenate(rimages, axis=1))\n",
    "#     image = np.concatenate(row_images, axis=0)\n",
    "#     print(image.shape)\n",
    "#     plt.imshow(image, cmap = matplotlib.cm.binary, **options)\n",
    "#     plt.axis(\"off\")\n"
   ]
  },
  {
   "cell_type": "code",
   "execution_count": 37,
   "metadata": {},
   "outputs": [
    {
     "data": {
      "image/png": "[encoded data removed]",
      "text/plain": [
       "<Figure size 576x576 with 4 Axes>"
      ]
     },
     "metadata": {
      "needs_background": "light"
     },
     "output_type": "display_data"
    }
   ],
   "source": [
    "cl_a, cl_b = 3, 5\n",
    "X_aa = X_train[(y_train== cl_a) & (y_train_pred==cl_a)]\n",
    "X_ab = X_train[(y_train== cl_a) & (y_train_pred==cl_b)]\n",
    "X_ba = X_train[(y_train== cl_b) & (y_train_pred==cl_a)]\n",
    "X_bb = X_train[(y_train== cl_b) & (y_train_pred==cl_b)]\n",
    "\n",
    "plt.figure(figsize=(8,8))\n",
    "plt.subplot(2,2,1,); plot_digits(X_aa[:25], images_per_row=5,name=\"real: {}, pre: {}\".format(cl_a,cl_a))\n",
    "plt.subplot(2,2,2); plot_digits(X_ab[:25], images_per_row=5,name=\"real: {}, pre: {}\".format(cl_a,cl_b))\n",
    "\n",
    "plt.subplot(2,2,3); plot_digits(X_ba[:25], images_per_row=5,name=\"real: {}, pre: {}\".format(cl_b,cl_a))\n",
    "plt.subplot(2,2,4); plot_digits(X_bb[:25], images_per_row=5,name=\"real: {}, pre: {}\".format(cl_b,cl_b))\n",
    "plt.show()"
   ]
  },
  {
   "cell_type": "markdown",
   "metadata": {},
   "source": [
    "### 多標籤分類\n",
    "\n",
    "每個實例產出多個類"
   ]
  },
  {
   "cell_type": "code",
   "execution_count": 39,
   "metadata": {},
   "outputs": [
    {
     "data": {
      "text/plain": [
       "KNeighborsClassifier(algorithm='auto', leaf_size=30, metric='minkowski',\n",
       "           metric_params=None, n_jobs=None, n_neighbors=5, p=2,\n",
       "           weights='uniform')"
      ]
     },
     "execution_count": 39,
     "metadata": {},
     "output_type": "execute_result"
    }
   ],
   "source": [
    "from sklearn.neighbors import KNeighborsClassifier # 支持多標籤分類，不是每個分類器都支持\n",
    "\n",
    "y_train_larger = (y_train >= 7)\n",
    "y_train_odd = (y_train%2==1)\n",
    "y_multilabel = np.c_[y_train_larger, y_train_odd]\n",
    "\n",
    "knn_clf = KNeighborsClassifier()\n",
    "knn_clf.fit(X_train,y_multilabel)"
   ]
  },
  {
   "cell_type": "code",
   "execution_count": 40,
   "metadata": {},
   "outputs": [
    {
     "data": {
      "image/png": "[encoded data removed]",
      "text/plain": [
       "<Figure size 144x144 with 1 Axes>"
      ]
     },
     "metadata": {
      "needs_background": "light"
     },
     "output_type": "display_data"
    }
   ],
   "source": [
    "plt.figure(figsize=(2,2))\n",
    "plt.imshow(X_train[100].reshape(28,-1))\n",
    "pred = knn_clf.predict([X_train[100]])"
   ]
  },
  {
   "cell_type": "code",
   "execution_count": 41,
   "metadata": {},
   "outputs": [
    {
     "name": "stdout",
     "output_type": "stream",
     "text": [
      "大於等於七:  False\n",
      "奇數:  False\n"
     ]
    }
   ],
   "source": [
    "print(\"大於等於七: \", pred[0][0])\n",
    "print(\"奇數: \", pred[0][1])"
   ]
  },
  {
   "cell_type": "code",
   "execution_count": 42,
   "metadata": {},
   "outputs": [],
   "source": [
    "# 這段會跑很久所以先註解掉： 這是交叉驗證並算 f1 分數\n",
    "# y_train_knn_pred = cross_val_predict(knn_clf, X_train, y_multilabel, cv=3)\n",
    "# f1_score(y_multilabel, y_train_knn_pred, average=\"macro\")"
   ]
  },
  {
   "cell_type": "markdown",
   "metadata": {},
   "source": [
    "### 多輸出分類"
   ]
  },
  {
   "cell_type": "code",
   "execution_count": 50,
   "metadata": {},
   "outputs": [
    {
     "data": {
      "image/png": "[encoded data removed]",
      "text/plain": [
       "<Figure size 432x288 with 2 Axes>"
      ]
     },
     "metadata": {
      "needs_background": "light"
     },
     "output_type": "display_data"
    }
   ],
   "source": [
    "from numpy import random as rnd\n",
    "noise_train = rnd.randint(0, 100, ((len(X_train),784)))\n",
    "noise_test = rnd.randint(0,100,(len(X_test),784))\n",
    "X_train_mod = X_train + noise_train\n",
    "X_test_mod = X_test + noise_test\n",
    "plt.subplot(1,2,1)\n",
    "plot_digits(X_train[100].reshape(-1,784), images_per_row=1,name=\"Origin\")\n",
    "plt.subplot(1,2,2)\n",
    "plot_digits(X_train_mod[100].reshape(-1,784), images_per_row=1,name=\"Noise\")\n",
    "plt.show()"
   ]
  },
  {
   "cell_type": "code",
   "execution_count": 52,
   "metadata": {},
   "outputs": [],
   "source": [
    "knn_clf.fit(X_train_mod, X_train)\n",
    "clean_digit = knn_clf.predict([X_test_mod[100]])"
   ]
  },
  {
   "cell_type": "code",
   "execution_count": 53,
   "metadata": {},
   "outputs": [
    {
     "data": {
      "image/png": "[encoded data removed]",
      "text/plain": [
       "<Figure size 432x288 with 2 Axes>"
      ]
     },
     "metadata": {
      "needs_background": "light"
     },
     "output_type": "display_data"
    }
   ],
   "source": [
    "plt.subplot(1,2,1)\n",
    "plot_digits(X_test_mod[100].reshape(-1,784), images_per_row=1,name=\"Noise\")\n",
    "plt.subplot(1,2,2)\n",
    "plot_digits(clean_digit.reshape(-1,784), images_per_row=1,name=\"Clean\")\n",
    "plt.show()"
   ]
  },
  {
   "cell_type": "code",
   "execution_count": null,
   "metadata": {},
   "outputs": [],
   "source": []
  }
 ],
 "metadata": {
  "kernelspec": {
   "display_name": "Python 3",
   "language": "python",
   "name": "python3"
  },
  "language_info": {
   "codemirror_mode": {
    "name": "ipython",
    "version": 3
   },
   "file_extension": ".py",
   "mimetype": "text/x-python",
   "name": "python",
   "nbconvert_exporter": "python",
   "pygments_lexer": "ipython3",
   "version": "3.6.2"
  }
 },
 "nbformat": 4,
 "nbformat_minor": 2
}
