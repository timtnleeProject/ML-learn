{
 "cells": [
  {
   "cell_type": "code",
   "execution_count": 1,
   "metadata": {},
   "outputs": [],
   "source": [
    "import tensorflow as tf\n",
    "import numpy as np"
   ]
  },
  {
   "cell_type": "markdown",
   "metadata": {},
   "source": [
    "### 不使用tf model，創建一層RNN"
   ]
  },
  {
   "cell_type": "code",
   "execution_count": 2,
   "metadata": {},
   "outputs": [],
   "source": [
    "n_inputs = 3\n",
    "n_neurons = 5\n",
    "\n",
    "X0 = tf.placeholder(tf.float32, [None, n_inputs])\n",
    "X1 = tf.placeholder(tf.float32, [None, n_inputs])\n",
    "\n",
    "Wx = tf.Variable(tf.random_normal(shape=[n_inputs, n_neurons]) ,dtype=tf.float32)\n",
    "Wy = tf.Variable(tf.random_normal(shape=[n_neurons,n_neurons]) ,dtype=tf.float32)\n",
    "b  = tf.Variable(tf.zeros([1, n_neurons]) ,dtype=tf.float32)\n",
    "\n",
    "Y0 = tf.tanh(tf.matmul(X0, Wx) + b)\n",
    "Y1 = tf.tanh(tf.matmul(Y0, Wy) + tf.matmul(X1,Wx) +b)\n",
    "\n",
    "init = tf.global_variables_initializer()"
   ]
  },
  {
   "cell_type": "code",
   "execution_count": 3,
   "metadata": {},
   "outputs": [],
   "source": [
    "X0_batch = np.array([\n",
    "    [0,1,2],\n",
    "    [3,4,5],\n",
    "    [6,7,8],\n",
    "    [9,0,1]\n",
    "])\n",
    "\n",
    "X1_batch = np.array([\n",
    "    [9,8,7],\n",
    "    [0,0,0],\n",
    "    [6,5,4],\n",
    "    [3,2,1]\n",
    "])"
   ]
  },
  {
   "cell_type": "code",
   "execution_count": 4,
   "metadata": {},
   "outputs": [
    {
     "name": "stdout",
     "output_type": "stream",
     "text": [
      "[[ 0.6100978  -0.9335099   0.93433917 -0.96111614  0.42576298]\n",
      " [ 0.7937366  -0.99999905  0.9997725   0.9755033   0.78866327]\n",
      " [ 0.89644665 -1.          0.9999991   0.999994    0.93299913]\n",
      " [-1.         -0.63640296 -0.41374382  1.          0.34683716]]\n"
     ]
    }
   ],
   "source": [
    "with tf.Session() as sess:\n",
    "    sess.run(init)\n",
    "    Y0_val,Y1_val = sess.run([Y0, Y1], feed_dict={X0:X0_batch, X1:X1_batch})\n",
    "    print(Y0_val)\n",
    "    "
   ]
  },
  {
   "cell_type": "markdown",
   "metadata": {},
   "source": [
    "### 通過時間靜態展開\n",
    "\n",
    "static_rnn"
   ]
  },
  {
   "cell_type": "code",
   "execution_count": 5,
   "metadata": {},
   "outputs": [],
   "source": [
    "X0 = tf.placeholder(tf.float32, [None, n_inputs])\n",
    "X1 = tf.placeholder(tf.float32, [None, n_inputs])\n",
    "\n",
    "basic_cell = tf.contrib.rnn.BasicRNNCell(num_units=n_neurons)\n",
    "output_seqs, states = tf.contrib.rnn.static_rnn(\n",
    "    basic_cell, [X0,X1], dtype=tf.float32\n",
    ")\n",
    "\n",
    "Y0, Y1 = output_seqs"
   ]
  },
  {
   "cell_type": "markdown",
   "metadata": {},
   "source": [
    "####  簡化流程"
   ]
  },
  {
   "cell_type": "code",
   "execution_count": 6,
   "metadata": {},
   "outputs": [],
   "source": [
    "tf.reset_default_graph()\n",
    "\n",
    "n_steps = 2 # 時間 t1, t2, ...\n",
    "\n",
    "X = tf.placeholder(tf.float32, [None, n_steps, n_inputs])\n",
    "X_seqs = tf.unstack(tf.transpose(X, perm=[1,0,2]))\n",
    "basic_cell = tf.contrib.rnn.BasicRNNCell(num_units=n_neurons)\n",
    "output_seqs, states = tf.contrib.rnn.static_rnn(\n",
    "    basic_cell,\n",
    "    X_seqs, \n",
    "    dtype=tf.float32\n",
    ")\n",
    "init = tf.global_variables_initializer()\n",
    "outputs = tf.transpose(tf.stack(output_seqs),perm=[1,0,2])\n"
   ]
  },
  {
   "cell_type": "code",
   "execution_count": 7,
   "metadata": {},
   "outputs": [],
   "source": [
    "# (4,2,3)\n",
    "X_batch = [\n",
    "    #   t=0    t=1\n",
    "    [[0,1,2],[9,8,7]],\n",
    "    [[3,4,5],[0,0,0]],\n",
    "    [[6,7,8],[6,5,4]],\n",
    "    [[9,0,1],[3,2,1]]\n",
    "]"
   ]
  },
  {
   "cell_type": "code",
   "execution_count": 8,
   "metadata": {},
   "outputs": [
    {
     "name": "stdout",
     "output_type": "stream",
     "text": [
      "[[[ 0.5512892   0.32712772 -0.9247502  -0.7330849  -0.33839363]\n",
      "  [ 0.99996036  0.9999865  -1.          0.8156324  -0.9977753 ]]\n",
      "\n",
      " [[ 0.99306583  0.98224276 -0.9999942  -0.77867174 -0.912229  ]\n",
      "  [-0.42400068  0.5513694  -0.04693571  0.56807524 -0.28384903]]\n",
      "\n",
      " [[ 0.99991626  0.9996835  -1.         -0.81729347 -0.9915123 ]\n",
      "  [ 0.99749637  0.9996399  -0.99999976  0.88971335 -0.9795773 ]]\n",
      "\n",
      " [[ 0.9878816   0.99960953 -0.99996865  0.99221545 -0.9908529 ]\n",
      "  [ 0.9453636   0.9324598  -0.9963645   0.7734431  -0.8241284 ]]]\n"
     ]
    }
   ],
   "source": [
    "with tf.Session() as sess:\n",
    "    init.run()\n",
    "    outputs_val = outputs.eval(feed_dict={X: X_batch})\n",
    "    print(outputs_val)"
   ]
  },
  {
   "cell_type": "markdown",
   "metadata": {},
   "source": [
    "### 動態展開\n",
    "\n",
    "dynamic_rnn"
   ]
  },
  {
   "cell_type": "code",
   "execution_count": 9,
   "metadata": {},
   "outputs": [],
   "source": [
    "tf.reset_default_graph()\n",
    "\n",
    "X = tf.placeholder(tf.float32, [None, n_steps, n_inputs])\n",
    "\n",
    "basic_cell = tf.contrib.rnn.BasicRNNCell(num_units=n_neurons)"
   ]
  },
  {
   "cell_type": "code",
   "execution_count": 10,
   "metadata": {},
   "outputs": [],
   "source": [
    "seq_length = tf.placeholder(tf.int32, [None]) # 迭代長度\n",
    "\n",
    "outputs, states = tf.nn.dynamic_rnn(basic_cell, X, dtype=tf.float32, sequence_length=seq_length)"
   ]
  },
  {
   "cell_type": "code",
   "execution_count": 11,
   "metadata": {},
   "outputs": [],
   "source": [
    "X_batch = np.array([\n",
    "    [[0,1,2],[9,8,7]],\n",
    "    [[3,4,5],[0,0,0]], #這個batch的 t2 沒有資料， 補 0\n",
    "    [[6,7,8],[6,5,4]],\n",
    "    [[9,0,1],[3,2,1]]\n",
    "])\n",
    "\n",
    "seq_length_batch = np.array([2,1,2,2])\n",
    "init = tf.global_variables_initializer()"
   ]
  },
  {
   "cell_type": "code",
   "execution_count": 12,
   "metadata": {},
   "outputs": [
    {
     "name": "stdout",
     "output_type": "stream",
     "text": [
      "[[ 1.          0.94280916 -0.99999714 -0.9966032   0.9999987 ]\n",
      " [ 0.9999565  -0.70109636 -0.99865454 -0.69492877  0.9986606 ]\n",
      " [ 0.999998    0.818073   -0.9988166  -0.9261735   0.99986076]\n",
      " [ 0.9992561   0.848234   -0.965704    0.2516801   0.8047183 ]]\n"
     ]
    }
   ],
   "source": [
    "with tf.Session() as sess:\n",
    "    init.run()\n",
    "    out_val, state_val = sess.run([outputs,states],feed_dict={X:X_batch,seq_length:seq_length_batch})\n",
    "    print(state_val)"
   ]
  },
  {
   "cell_type": "markdown",
   "metadata": {},
   "source": [
    "### Training RNN"
   ]
  },
  {
   "cell_type": "code",
   "execution_count": 13,
   "metadata": {},
   "outputs": [],
   "source": [
    "from tensorflow.contrib.layers import fully_connected\n",
    "\n",
    "tf.reset_default_graph()\n",
    "\n",
    "n_steps   =  28\n",
    "n_inputs  =  28\n",
    "n_neurons = 150\n",
    "n_outputs =  10\n",
    "\n",
    "learning_rate = 0.001\n",
    "\n",
    "X = tf.placeholder(tf.float32, [None, n_steps, n_inputs]) # 輸入\n",
    "y = tf.placeholder(tf.int32  , [None])                    # labels\n",
    "\n",
    "basic_cell = tf.contrib.rnn.BasicRNNCell(num_units=n_neurons)\n",
    "outputs, states = tf.nn.dynamic_rnn(basic_cell, X, dtype=tf.float32)\n",
    "\n",
    "logits = fully_connected(states, n_outputs, activation_fn=None) # 最後一層, output\n",
    "xentropy = tf.nn.sparse_softmax_cross_entropy_with_logits(\n",
    "                                                          labels=y, logits=logits)\n",
    "\n",
    "loss = tf.reduce_mean(xentropy)\n",
    "optimizer = tf.train.AdamOptimizer(learning_rate=learning_rate)\n",
    "\n",
    "training_op = optimizer.minimize(loss)\n",
    "\n",
    "correct = tf.nn.in_top_k(logits, y, 1)\n",
    "accuracy = tf.reduce_mean(tf.cast(correct, tf.float32))\n",
    "\n",
    "init = tf.global_variables_initializer()"
   ]
  },
  {
   "cell_type": "code",
   "execution_count": 14,
   "metadata": {},
   "outputs": [
    {
     "name": "stdout",
     "output_type": "stream",
     "text": [
      "WARNING:tensorflow:From <ipython-input-14-da9300976aa5>:4: read_data_sets (from tensorflow.contrib.learn.python.learn.datasets.mnist) is deprecated and will be removed in a future version.\n",
      "Instructions for updating:\n",
      "Please use alternatives such as official/mnist/dataset.py from tensorflow/models.\n",
      "WARNING:tensorflow:From c:\\users\\user\\appdata\\local\\programs\\python\\python36\\lib\\site-packages\\tensorflow\\contrib\\learn\\python\\learn\\datasets\\mnist.py:260: maybe_download (from tensorflow.contrib.learn.python.learn.datasets.base) is deprecated and will be removed in a future version.\n",
      "Instructions for updating:\n",
      "Please write your own downloading logic.\n",
      "WARNING:tensorflow:From c:\\users\\user\\appdata\\local\\programs\\python\\python36\\lib\\site-packages\\tensorflow\\contrib\\learn\\python\\learn\\datasets\\mnist.py:262: extract_images (from tensorflow.contrib.learn.python.learn.datasets.mnist) is deprecated and will be removed in a future version.\n",
      "Instructions for updating:\n",
      "Please use tf.data to implement this functionality.\n",
      "Extracting /tmp/data/train-images-idx3-ubyte.gz\n",
      "WARNING:tensorflow:From c:\\users\\user\\appdata\\local\\programs\\python\\python36\\lib\\site-packages\\tensorflow\\contrib\\learn\\python\\learn\\datasets\\mnist.py:267: extract_labels (from tensorflow.contrib.learn.python.learn.datasets.mnist) is deprecated and will be removed in a future version.\n",
      "Instructions for updating:\n",
      "Please use tf.data to implement this functionality.\n",
      "Extracting /tmp/data/train-labels-idx1-ubyte.gz\n",
      "Extracting /tmp/data/t10k-images-idx3-ubyte.gz\n",
      "Extracting /tmp/data/t10k-labels-idx1-ubyte.gz\n",
      "WARNING:tensorflow:From c:\\users\\user\\appdata\\local\\programs\\python\\python36\\lib\\site-packages\\tensorflow\\contrib\\learn\\python\\learn\\datasets\\mnist.py:290: DataSet.__init__ (from tensorflow.contrib.learn.python.learn.datasets.mnist) is deprecated and will be removed in a future version.\n",
      "Instructions for updating:\n",
      "Please use alternatives such as official/mnist/dataset.py from tensorflow/models.\n"
     ]
    }
   ],
   "source": [
    "# 加載數據\n",
    "from tensorflow.examples.tutorials.mnist import input_data\n",
    "\n",
    "mnist = input_data.read_data_sets(\"/tmp/data/\")\n",
    "X_test = mnist.test.images.reshape((-1, n_steps, n_inputs))\n",
    "y_test = mnist.test.labels"
   ]
  },
  {
   "cell_type": "code",
   "execution_count": 15,
   "metadata": {},
   "outputs": [
    {
     "name": "stdout",
     "output_type": "stream",
     "text": [
      "0 Train accuracy: 0.86 Test accuracy: 0.9224\n",
      "1 Train accuracy: 0.945 Test accuracy: 0.9367\n",
      "2 Train accuracy: 0.93 Test accuracy: 0.9432\n",
      "3 Train accuracy: 0.955 Test accuracy: 0.9574\n",
      "4 Train accuracy: 0.99 Test accuracy: 0.9609\n",
      "5 Train accuracy: 0.98 Test accuracy: 0.9642\n",
      "6 Train accuracy: 0.97 Test accuracy: 0.9654\n",
      "7 Train accuracy: 0.985 Test accuracy: 0.9681\n",
      "8 Train accuracy: 0.98 Test accuracy: 0.9698\n",
      "9 Train accuracy: 0.975 Test accuracy: 0.9688\n",
      "10 Train accuracy: 0.97 Test accuracy: 0.9655\n",
      "11 Train accuracy: 0.975 Test accuracy: 0.9755\n",
      "12 Train accuracy: 0.965 Test accuracy: 0.9728\n",
      "13 Train accuracy: 0.985 Test accuracy: 0.9738\n",
      "14 Train accuracy: 0.975 Test accuracy: 0.9704\n",
      "15 Train accuracy: 0.99 Test accuracy: 0.9728\n",
      "16 Train accuracy: 0.985 Test accuracy: 0.9731\n",
      "17 Train accuracy: 0.975 Test accuracy: 0.9706\n",
      "18 Train accuracy: 0.975 Test accuracy: 0.9725\n",
      "19 Train accuracy: 0.97 Test accuracy: 0.9763\n",
      "20 Train accuracy: 0.98 Test accuracy: 0.973\n",
      "21 Train accuracy: 1.0 Test accuracy: 0.9772\n",
      "22 Train accuracy: 0.995 Test accuracy: 0.9781\n",
      "23 Train accuracy: 0.985 Test accuracy: 0.9744\n",
      "24 Train accuracy: 0.99 Test accuracy: 0.9756\n",
      "25 Train accuracy: 0.985 Test accuracy: 0.976\n",
      "26 Train accuracy: 0.985 Test accuracy: 0.9714\n",
      "27 Train accuracy: 0.995 Test accuracy: 0.9748\n",
      "28 Train accuracy: 1.0 Test accuracy: 0.9774\n",
      "29 Train accuracy: 0.99 Test accuracy: 0.975\n"
     ]
    }
   ],
   "source": [
    "n_epochs = 30\n",
    "batch_size = 200\n",
    "\n",
    "with tf.Session() as sess:\n",
    "    init.run()\n",
    "    for epoch in range(n_epochs):\n",
    "        for iteration in range(mnist.train.num_examples//batch_size):\n",
    "            X_batch, y_batch = mnist.train.next_batch(batch_size)\n",
    "            X_batch = X_batch.reshape((-1,n_steps, n_inputs))\n",
    "            sess.run(training_op, feed_dict={X: X_batch, y: y_batch})\n",
    "        acc_train = accuracy.eval(feed_dict={X: X_batch, y: y_batch})\n",
    "        acc_test  = accuracy.eval(feed_dict={X: X_test,  y: y_test})\n",
    "        print(epoch, \"Train accuracy:\", acc_train, \"Test accuracy:\", acc_test)"
   ]
  },
  {
   "cell_type": "markdown",
   "metadata": {},
   "source": [
    "### 預測時間序列"
   ]
  },
  {
   "cell_type": "code",
   "execution_count": 18,
   "metadata": {},
   "outputs": [],
   "source": [
    "tf.reset_default_graph()\n",
    "\n",
    "n_steps   = 20\n",
    "n_inputs  = 1\n",
    "n_neurons = 100\n",
    "n_outputs = 1\n",
    "\n",
    "X = tf.placeholder(tf.float32, [None, n_steps, n_inputs ])\n",
    "y = tf.placeholder(tf.float32, [None, n_steps, n_outputs]) # 輸出\n",
    "cell = tf.contrib.rnn.OutputProjectionWrapper(  # 10個輸出，連接全連接層 輸出一個預測值\n",
    "    tf.contrib.rnn.BasicRNNCell(num_units=n_neurons, activation=tf.nn.relu)\n",
    ")\n",
    "outputs, states = tf.nn.dynamic_rnn(cell, X, dtype=tf.float32)"
   ]
  },
  {
   "cell_type": "code",
   "execution_count": null,
   "metadata": {},
   "outputs": [],
   "source": []
  }
 ],
 "metadata": {
  "kernelspec": {
   "display_name": "Python 3",
   "language": "python",
   "name": "python3"
  },
  "language_info": {
   "codemirror_mode": {
    "name": "ipython",
    "version": 3
   },
   "file_extension": ".py",
   "mimetype": "text/x-python",
   "name": "python",
   "nbconvert_exporter": "python",
   "pygments_lexer": "ipython3",
   "version": "3.6.2"
  }
 },
 "nbformat": 4,
 "nbformat_minor": 2
}
